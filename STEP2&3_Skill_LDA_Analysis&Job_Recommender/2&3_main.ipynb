{
 "cells": [
  {
   "cell_type": "markdown",
   "metadata": {},
   "source": [
    "# STEP2&3_Skill_LDA_Analysis&Job_Recommender"
   ]
  },
  {
   "cell_type": "markdown",
   "metadata": {},
   "source": [
    "# STEP2_Skill_LDA_Analysis"
   ]
  },
  {
   "cell_type": "markdown",
   "metadata": {},
   "source": [
    "## STEP2_1_SetUp"
   ]
  },
  {
   "cell_type": "code",
   "execution_count": 1,
   "metadata": {},
   "outputs": [
    {
     "data": {
      "text/html": [
       "Current session configs: <tt>{'conf': {'spark.jars.packages': 'com.johnsnowlabs.nlp:spark-nlp_2.12:4.3.1', 'spark.pyspark.python': 'python3', 'spark.pyspark.virtualenv.enabled': 'true', 'spark.pyspark.virtualenv.type': 'native', 'spark.pyspark.virtualenv.bin.path': '/usr/bin/virtualenv'}, 'proxyUser': 'jovyan', 'kind': 'pyspark'}</tt><br>"
      ],
      "text/plain": [
       "<IPython.core.display.HTML object>"
      ]
     },
     "metadata": {},
     "output_type": "display_data"
    },
    {
     "data": {
      "text/html": [
       "No active sessions."
      ],
      "text/plain": [
       "<IPython.core.display.HTML object>"
      ]
     },
     "metadata": {},
     "output_type": "display_data"
    }
   ],
   "source": [
    "%%configure -f\n",
    "{\n",
    "    \"conf\": {\n",
    "        \"spark.jars.packages\": \"com.johnsnowlabs.nlp:spark-nlp_2.12:4.3.1\",\n",
    "        \"spark.pyspark.python\": \"python3\",\n",
    "        \"spark.pyspark.virtualenv.enabled\": \"true\",\n",
    "        \"spark.pyspark.virtualenv.type\":\"native\",\n",
    "        \"spark.pyspark.virtualenv.bin.path\":\"/usr/bin/virtualenv\"\n",
    "    }\n",
    "}"
   ]
  },
  {
   "cell_type": "code",
   "execution_count": 2,
   "metadata": {},
   "outputs": [
    {
     "name": "stdout",
     "output_type": "stream",
     "text": [
      "Starting Spark application\n"
     ]
    },
    {
     "data": {
      "text/html": [
       "<table>\n",
       "<tr><th>ID</th><th>YARN Application ID</th><th>Kind</th><th>State</th><th>Spark UI</th><th>Driver log</th><th>Current session?</th></tr><tr><td>3</td><td>application_1716570043646_0005</td><td>pyspark</td><td>idle</td><td><a target=\"_blank\" href=\"http://ip-172-31-33-41.ec2.internal:20888/proxy/application_1716570043646_0005/\">Link</a></td><td><a target=\"_blank\" href=\"http://ip-172-31-45-77.ec2.internal:8042/node/containerlogs/container_1716570043646_0005_01_000001/livy\">Link</a></td><td>✔</td></tr></table>"
      ],
      "text/plain": [
       "<IPython.core.display.HTML object>"
      ]
     },
     "metadata": {},
     "output_type": "display_data"
    },
    {
     "data": {
      "application/vnd.jupyter.widget-view+json": {
       "model_id": "",
       "version_major": 2,
       "version_minor": 0
      },
      "text/plain": [
       "FloatProgress(value=0.0, bar_style='info', description='Progress:', layout=Layout(height='25px', width='50%'),…"
      ]
     },
     "metadata": {},
     "output_type": "display_data"
    },
    {
     "name": "stdout",
     "output_type": "stream",
     "text": [
      "SparkSession available as 'spark'.\n"
     ]
    },
    {
     "data": {
      "application/vnd.jupyter.widget-view+json": {
       "model_id": "",
       "version_major": 2,
       "version_minor": 0
      },
      "text/plain": [
       "FloatProgress(value=0.0, bar_style='info', description='Progress:', layout=Layout(height='25px', width='50%'),…"
      ]
     },
     "metadata": {},
     "output_type": "display_data"
    },
    {
     "name": "stdout",
     "output_type": "stream",
     "text": [
      "Collecting pandas==1.0.5\n",
      "  Using cached https://files.pythonhosted.org/packages/af/f3/683bf2547a3eaeec15b39cef86f61e921b3b187f250fcd2b5c5fb4386369/pandas-1.0.5-cp37-cp37m-manylinux1_x86_64.whl\n",
      "Requirement already satisfied: numpy>=1.13.3 in /usr/local/lib64/python3.7/site-packages (from pandas==1.0.5)\n",
      "Collecting python-dateutil>=2.6.1 (from pandas==1.0.5)\n",
      "  Using cached https://files.pythonhosted.org/packages/ec/57/56b9bcc3c9c6a792fcbaf139543cee77261f3651ca9da0c93f5c1221264b/python_dateutil-2.9.0.post0-py2.py3-none-any.whl\n",
      "Requirement already satisfied: pytz>=2017.2 in /usr/local/lib/python3.7/site-packages (from pandas==1.0.5)\n",
      "Requirement already satisfied: six>=1.5 in /usr/local/lib/python3.7/site-packages (from python-dateutil>=2.6.1->pandas==1.0.5)\n",
      "Installing collected packages: python-dateutil, pandas\n",
      "Successfully installed pandas-1.0.5 python-dateutil-2.9.0.post0\n",
      "\n",
      "Collecting scipy==1.4.1\n",
      "  Using cached https://files.pythonhosted.org/packages/dd/82/c1fe128f3526b128cfd185580ba40d01371c5d299fcf7f77968e22dfcc2e/scipy-1.4.1-cp37-cp37m-manylinux1_x86_64.whl\n",
      "Requirement already satisfied: numpy>=1.13.3 in /usr/local/lib64/python3.7/site-packages (from scipy==1.4.1)\n",
      "Installing collected packages: scipy\n",
      "Successfully installed scipy-1.4.1\n",
      "\n",
      "Collecting matplotlib==3.2.1\n",
      "  Using cached https://files.pythonhosted.org/packages/b2/c2/71fcf957710f3ba1f09088b35776a799ba7dd95f7c2b195ec800933b276b/matplotlib-3.2.1-cp37-cp37m-manylinux1_x86_64.whl\n",
      "Collecting pyparsing!=2.0.4,!=2.1.2,!=2.1.6,>=2.0.1 (from matplotlib==3.2.1)\n",
      "  Using cached https://files.pythonhosted.org/packages/9d/ea/6d76df31432a0e6fdf81681a895f009a4bb47b3c39036db3e1b528191d52/pyparsing-3.1.2-py3-none-any.whl\n",
      "Requirement already satisfied: python-dateutil>=2.1 in /mnt/tmp/1716584126037-0/lib/python3.7/site-packages (from matplotlib==3.2.1)\n",
      "Requirement already satisfied: numpy>=1.11 in /usr/local/lib64/python3.7/site-packages (from matplotlib==3.2.1)\n",
      "Collecting cycler>=0.10 (from matplotlib==3.2.1)\n",
      "  Using cached https://files.pythonhosted.org/packages/5c/f9/695d6bedebd747e5eb0fe8fad57b72fdf25411273a39791cde838d5a8f51/cycler-0.11.0-py3-none-any.whl\n",
      "Collecting kiwisolver>=1.0.1 (from matplotlib==3.2.1)\n",
      "  Using cached https://files.pythonhosted.org/packages/f9/77/e3046bf19720b22e3e0b7c12e28f6f2c0c18a213fb91a56cea640862270f/kiwisolver-1.4.5-cp37-cp37m-manylinux_2_5_x86_64.manylinux1_x86_64.whl\n",
      "Requirement already satisfied: six>=1.5 in /usr/local/lib/python3.7/site-packages (from python-dateutil>=2.1->matplotlib==3.2.1)\n",
      "Collecting typing-extensions; python_version < \"3.8\" (from kiwisolver>=1.0.1->matplotlib==3.2.1)\n",
      "  Using cached https://files.pythonhosted.org/packages/ec/6b/63cc3df74987c36fe26157ee12e09e8f9db4de771e0f3404263117e75b95/typing_extensions-4.7.1-py3-none-any.whl\n",
      "Installing collected packages: pyparsing, cycler, typing-extensions, kiwisolver, matplotlib\n",
      "Successfully installed cycler-0.11.0 kiwisolver-1.4.5 matplotlib-3.2.1 pyparsing-3.1.2 typing-extensions-4.7.1\n",
      "\n",
      "Collecting spark-nlp\n",
      "  Using cached https://files.pythonhosted.org/packages/13/96/a580e098e00905ef715253fc85589db00ca5bfa324deb5aa7cb4fc069004/spark_nlp-5.3.3-py2.py3-none-any.whl\n",
      "Installing collected packages: spark-nlp\n",
      "Successfully installed spark-nlp-5.3.3"
     ]
    }
   ],
   "source": [
    "sc.install_pypi_package(\"pandas==1.0.5\", \"https://pypi.org/simple\")\n",
    "sc.install_pypi_package(\"scipy==1.4.1\", \"https://pypi.org/simple\")\n",
    "sc.install_pypi_package(\"matplotlib==3.2.1\", \"https://pypi.org/simple\")\n",
    "sc.install_pypi_package(\"spark-nlp\", \"https://pypi.org/simple\")"
   ]
  },
  {
   "cell_type": "code",
   "execution_count": 3,
   "metadata": {},
   "outputs": [
    {
     "data": {
      "application/vnd.jupyter.widget-view+json": {
       "model_id": "",
       "version_major": 2,
       "version_minor": 0
      },
      "text/plain": [
       "FloatProgress(value=0.0, bar_style='info', description='Progress:', layout=Layout(height='25px', width='50%'),…"
      ]
     },
     "metadata": {},
     "output_type": "display_data"
    }
   ],
   "source": [
    "import sys\n",
    "import os\n",
    "import json\n",
    "import re\n",
    "import string\n",
    "import csv\n",
    "\n",
    "import pyspark\n",
    "from pyspark.sql import SparkSession, Row\n",
    "from pyspark.sql.functions import udf, col, lower, desc, split, trim, expr\n",
    "from pyspark.sql.types import DoubleType, StringType, BooleanType, ArrayType\n",
    "from pyspark.ml.feature import Tokenizer, RegexTokenizer, StopWordsRemover, HashingTF, IDF, CountVectorizer\n",
    "from pyspark.ml.linalg import Vectors, VectorUDT, SparseVector\n",
    "from pyspark.ml import Pipeline\n",
    "from pyspark.ml.clustering import LDA\n",
    "\n",
    "import sparknlp\n",
    "from sparknlp.pretrained import PretrainedPipeline\n",
    "from sparknlp.annotator import Tokenizer, LemmatizerModel, Normalizer, StopWordsCleaner\n",
    "from sparknlp.common import RegexRule\n",
    "from sparknlp.base import DocumentAssembler\n",
    "\n",
    "import matplotlib.pyplot as plt"
   ]
  },
  {
   "cell_type": "code",
   "execution_count": 4,
   "metadata": {},
   "outputs": [
    {
     "data": {
      "application/vnd.jupyter.widget-view+json": {
       "model_id": "",
       "version_major": 2,
       "version_minor": 0
      },
      "text/plain": [
       "FloatProgress(value=0.0, bar_style='info', description='Progress:', layout=Layout(height='25px', width='50%'),…"
      ]
     },
     "metadata": {},
     "output_type": "display_data"
    }
   ],
   "source": [
    "# Get stopwords list fomr s3 bucket\n",
    "stopwords_df = spark.read.text(\"s3://qixin-finalproj-bucket/stopwords.txt\")\n",
    "stopwords_list = [row.value for row in stopwords_df.collect()]"
   ]
  },
  {
   "cell_type": "markdown",
   "metadata": {},
   "source": [
    "## STEP2_2_Data_Processing"
   ]
  },
  {
   "cell_type": "code",
   "execution_count": 5,
   "metadata": {},
   "outputs": [
    {
     "data": {
      "application/vnd.jupyter.widget-view+json": {
       "model_id": "",
       "version_major": 2,
       "version_minor": 0
      },
      "text/plain": [
       "FloatProgress(value=0.0, bar_style='info', description='Progress:', layout=Layout(height='25px', width='50%'),…"
      ]
     },
     "metadata": {},
     "output_type": "display_data"
    },
    {
     "name": "stdout",
     "output_type": "stream",
     "text": [
      "+---------------------------------------------------------------------------------------------------------------------------------------------------------------------------------------------------------------------------------------------------------------------------------------------------------------------------------------------------------------------------------------------------------------------------------------------------------------------------------------------------------------------------------------------------------------------------------------------------------------------------------------------------------------------------------------------------------------------------------------------------------------------------------------------------------------------------------------------------------------------------------------------------------------------------------------------------------------------------------------------------------------------------------------------------------------------------------------------------------------------------------------------------------------------------------------------------------------------------------------------------------------------------------------------------------------------------------------------------------------------------------------------------------------------------------------------------------------------------------------------------------------------------------------------------------------------------------------------------------------------------------------------------------------------------------------------------------------------------------------------------------------------------------------------------------------------------------------------------------------------------------------------------------------------------------------------------------------------------------------------------------------------------------------------------------------------------------------------------------------------------------------------------------------------------------------------------------------------------------------+\n",
      "|job_skills                                                                                                                                                                                                                                                                                                                                                                                                                                                                                                                                                                                                                                                                                                                                                                                                                                                                                                                                                                                                                                                                                                                                                                                                                                                                                                                                                                                                                                                                                                                                                                                                                                                                                                                                                                                                                                                                                                                                                                                                                                                                                                                                                                                                                             |\n",
      "+---------------------------------------------------------------------------------------------------------------------------------------------------------------------------------------------------------------------------------------------------------------------------------------------------------------------------------------------------------------------------------------------------------------------------------------------------------------------------------------------------------------------------------------------------------------------------------------------------------------------------------------------------------------------------------------------------------------------------------------------------------------------------------------------------------------------------------------------------------------------------------------------------------------------------------------------------------------------------------------------------------------------------------------------------------------------------------------------------------------------------------------------------------------------------------------------------------------------------------------------------------------------------------------------------------------------------------------------------------------------------------------------------------------------------------------------------------------------------------------------------------------------------------------------------------------------------------------------------------------------------------------------------------------------------------------------------------------------------------------------------------------------------------------------------------------------------------------------------------------------------------------------------------------------------------------------------------------------------------------------------------------------------------------------------------------------------------------------------------------------------------------------------------------------------------------------------------------------------------------+\n",
      "|human resources management, labor relations management, project management, change management, leadership development, employee relations, ethics and compliance, talent management, workforce development, human resources information system, diversity and inclusion, conflict resolution, compensation and benefits administration, performance management, team leadership, collective bargaining, union grievances, step discipline, flma, std, pto, work/life integration, 401k, tuition reimbursement, employee discount programs, critical illness coverage                                                                                                                                                                                                                                                                                                                                                                                                                                                                                                                                                                                                                                                                                                                                                                                                                                                                                                                                                                                                                                                                                                                                                                                                                                                                                                                                                                                                                                                                                                                                                                                                                                                                   |\n",
      "|loss prevention, teamwork, communication, customer service, honesty, investigations, data analysis, analytical thinking, adaptability, flexiblity, problem solving, collaboration, attention to detail, documentation, security experience, legal procedures, shrink reduction                                                                                                                                                                                                                                                                                                                                                                                                                                                                                                                                                                                                                                                                                                                                                                                                                                                                                                                                                                                                                                                                                                                                                                                                                                                                                                                                                                                                                                                                                                                                                                                                                                                                                                                                                                                                                                                                                                                                                         |\n",
      "|quality assurance, metrology, inspection, production, manufacturing, printing, microsoft office, erp, inspection programs, safety, leadership, communication, problemsolving, physical stamina, attention to detail, high school diploma/ged, associate's degree (a.a.), english language proficiency, mathematical skills, reasoning ability                                                                                                                                                                                                                                                                                                                                                                                                                                                                                                                                                                                                                                                                                                                                                                                                                                                                                                                                                                                                                                                                                                                                                                                                                                                                                                                                                                                                                                                                                                                                                                                                                                                                                                                                                                                                                                                                                          |\n",
      "|patient registration, facetoface check in and check out, preregistration, insurance verification, cash collections, chart reconciliation, patient discharge, customer service, high school diploma, computer information system, clinic environment, interpersonal skills, telephone communication, patient communication, medical staff communication, time management, financial responsibility discussion, fastpaced environment, team setting, yearly competencies, software opening, email navigation, keyboard navigation, logging in and out of computer, diverse populations, multitasking, dependability, punctuality, organizational skills                                                                                                                                                                                                                                                                                                                                                                                                                                                                                                                                                                                                                                                                                                                                                                                                                                                                                                                                                                                                                                                                                                                                                                                                                                                                                                                                                                                                                                                                                                                                                                                  |\n",
      "|store management, employee training, employee development, scheduling, customer service, compliance, auditing, merchandising, hospitality, profit monitoring, shrinkage control, lottery operations, car wash operations, retail waste management, high school diploma, ged, supervising experience, fast food experience, restaurant experience, retail experience, convenience store experience, certification                                                                                                                                                                                                                                                                                                                                                                                                                                                                                                                                                                                                                                                                                                                                                                                                                                                                                                                                                                                                                                                                                                                                                                                                                                                                                                                                                                                                                                                                                                                                                                                                                                                                                                                                                                                                                       |\n",
      "|rn license, bsn, bcls, acls, critical thinking skills, sound judgment, communication skills, teamwork, professionalism, patient care, infection control, emergency care, continuing education, patient education, physical demands, lifting, standing, bending, stooping, reaching, pushing, pulling, squatting, kneeling, working in a healthcare setting, working with patients, working with families, working with other healthcare professionals, working in a fastpaced environment, working under pressure, working independently, working as part of a team                                                                                                                                                                                                                                                                                                                                                                                                                                                                                                                                                                                                                                                                                                                                                                                                                                                                                                                                                                                                                                                                                                                                                                                                                                                                                                                                                                                                                                                                                                                                                                                                                                                                    |\n",
      "|business skills, analytical skills, communication skills, teamwork, underwriting, risk assessment, pricing, customer relationships, coaching, training, commercial property, casualty, personal liability, management, professional liability, insurance, sales, claims handling, financial services, banking, mortgage underwriting, financial consulting, asset management, business analyst, legal services, attorney, paralegal                                                                                                                                                                                                                                                                                                                                                                                                                                                                                                                                                                                                                                                                                                                                                                                                                                                                                                                                                                                                                                                                                                                                                                                                                                                                                                                                                                                                                                                                                                                                                                                                                                                                                                                                                                                                    |\n",
      "|concrete construction, tiltup construction, scheduling, coordination, communication, supervision, budgeting, safety, spanish, listening, negotiation, problemsolving, commercial/industrial concrete construction, ability to supervise, ability to prioritize, communication skills, safety first philosophy, technology knowledge, work ethic, travel, lifting heavy objects, onsite work, noise level, teamwork                                                                                                                                                                                                                                                                                                                                                                                                                                                                                                                                                                                                                                                                                                                                                                                                                                                                                                                                                                                                                                                                                                                                                                                                                                                                                                                                                                                                                                                                                                                                                                                                                                                                                                                                                                                                                     |\n",
      "|customer service, sales, retail, pointofsale (pos) system, inventory control, loss prevention, visual merchandising, communication, teamwork, problemsolving, math skills, bilingual english/spanish speaking and writing skills, physical abilities (bending stooping reaching climbing lifting)                                                                                                                                                                                                                                                                                                                                                                                                                                                                                                                                                                                                                                                                                                                                                                                                                                                                                                                                                                                                                                                                                                                                                                                                                                                                                                                                                                                                                                                                                                                                                                                                                                                                                                                                                                                                                                                                                                                                      |\n",
      "|accounting, financial reporting, quickbooks, financial analysis, leadership, project management, budgeting, consolidated financial statements, accounting theory, fasb, gaap, sec, netsuite                                                                                                                                                                                                                                                                                                                                                                                                                                                                                                                                                                                                                                                                                                                                                                                                                                                                                                                                                                                                                                                                                                                                                                                                                                                                                                                                                                                                                                                                                                                                                                                                                                                                                                                                                                                                                                                                                                                                                                                                                                            |\n",
      "|power system analysis software (cape aspen etap), microsoft office, electrical design software, short circuit modeling software, relay vendor software, nercprc standards, protective relay calculations, protective relay coordination studies, relay setting files, relay coordination compliance reports, protective relay construction support, substation design, transmission and distribution industry protection schemes, electrical power system analysis, electrical system planning, protective device application, settings, substation design, bachelor's degree in electrical engineering, professional engineer (pe) licensed, strong written and verbal communication skills, strong computer skills, ability to multitask and work on multiple projects, familiarity with power system analysis software, previous experience with an architectural/engineering or engineering consulting firm                                                                                                                                                                                                                                                                                                                                                                                                                                                                                                                                                                                                                                                                                                                                                                                                                                                                                                                                                                                                                                                                                                                                                                                                                                                                                                                        |\n",
      "|javascript (es6), html5, css, react, angularjs, vue, java, node.js, jest, cypress, mocha, chai, a/b testing, rest apis, graphql, sql, data analysis, datadriven development, full stack engineering, software design, objectoriented programming, frontend architecture, user experience design, mentoring, pay zones, health coverage, paid volunteer days, wellness resources, equal opportunity employer                                                                                                                                                                                                                                                                                                                                                                                                                                                                                                                                                                                                                                                                                                                                                                                                                                                                                                                                                                                                                                                                                                                                                                                                                                                                                                                                                                                                                                                                                                                                                                                                                                                                                                                                                                                                                            |\n",
      "|fitness coach, personal trainer, level 3 qualified, puregym app, member base, lift the bar, mac nutrition, future practice, first aid, gym membership, management training, group exercise                                                                                                                                                                                                                                                                                                                                                                                                                                                                                                                                                                                                                                                                                                                                                                                                                                                                                                                                                                                                                                                                                                                                                                                                                                                                                                                                                                                                                                                                                                                                                                                                                                                                                                                                                                                                                                                                                                                                                                                                                                             |\n",
      "|school administration, student activities and services coordination, curriculum and instruction knowledge, instructional program evaluation, budget and personnel management, policy and procedures implementation, data interpretation, classroom teaching experience, instructional leadership experience, master's degree, texas midmanagement certificate, texas principal certificate, advanced education leadership (ael) certification, instructional leadership training (ilt), instructional leadership development (ild), strong organizational skills, communication skills, interpersonal skills                                                                                                                                                                                                                                                                                                                                                                                                                                                                                                                                                                                                                                                                                                                                                                                                                                                                                                                                                                                                                                                                                                                                                                                                                                                                                                                                                                                                                                                                                                                                                                                                                           |\n",
      "|civil engineering, environmental engineering, watercad, sewercad, microsoft office, infoworks ws, infowater, civil 3d, vision/microsoft project, word, excel, project tracking software, leadership, communication, organization, time management, project management, municipal water/wastewater projects, p.e. license                                                                                                                                                                                                                                                                                                                                                                                                                                                                                                                                                                                                                                                                                                                                                                                                                                                                                                                                                                                                                                                                                                                                                                                                                                                                                                                                                                                                                                                                                                                                                                                                                                                                                                                                                                                                                                                                                                               |\n",
      "|nursing, bls, acls, icu, patient care, communication, collaboration, education, critical thinking, problemsolving, bachelor's degree in nursing (bsn), registered nurse (rn) license, massachusetts rn license, influenza vaccine, covid19 vaccine                                                                                                                                                                                                                                                                                                                                                                                                                                                                                                                                                                                                                                                                                                                                                                                                                                                                                                                                                                                                                                                                                                                                                                                                                                                                                                                                                                                                                                                                                                                                                                                                                                                                                                                                                                                                                                                                                                                                                                                     |\n",
      "|american board of family medicine, american board of internal medicine, medical, dental, vision, pto, 401k                                                                                                                                                                                                                                                                                                                                                                                                                                                                                                                                                                                                                                                                                                                                                                                                                                                                                                                                                                                                                                                                                                                                                                                                                                                                                                                                                                                                                                                                                                                                                                                                                                                                                                                                                                                                                                                                                                                                                                                                                                                                                                                             |\n",
      "|cashier, stocker, lead, planograms, customer service, profitability, teamwork, asset protection, loss prevention, unloading trucks, receiving, opening cartons, unpacking totes, stocking merchandise, rotating merchandise, facing merchandise, building merchandise displays, restocking merchandise, ordering zones, drop shipment categories, implementing planograms, maintaining planograms, assisting customers, locating merchandise, bailing cardboard, taking out trash, dusting, mopping, cleaning restrooms, cleaning stockrooms, greeting customers, maintaining register countertops, implementing register countertop planograms, operating cash register, operating flatbed scanner, itemizing purchases, totaling purchases, bagging merchandise, collecting payment, making change, cleaning front end of store, setting up sidewalk displays, maintaining a clean store, organizing a store, facilitating a safe working environment, facilitating a secure working environment, facilitating a safe shopping environment, facilitating a secure shopping environment, providing customer service leadership, following company policies, following company procedures, opening store, closing store, authorizing refunds, signing for refunds, authorizing overrides, signing for overrides, counting register, making bank deposits, maintaining cashier accountability, maintaining key control, adhering to company security practices, adhering to cash control procedures, monitoring cash levels, making drawer pulls, monitoring cameras, supplying cashiers with change, completing paperwork, completing documentation, mathematical calculations, addition, subtraction, multiplication, division, percentages, cash handling procedures, cashier accountability, deposit control, ibm cash register functions, cash control policies, facility control policies, safety control policies, interpersonal skills, oral communication skills, written communication skills, understanding safety policies, understanding safety practices, reading planograms, following planograms, following merchandise presentation guidance, high school diploma, supervisory experience, related experience, training|\n",
      "|psychiatrist, medical degree, psychiatry residency program, washington state physician and surgeon license                                                                                                                                                                                                                                                                                                                                                                                                                                                                                                                                                                                                                                                                                                                                                                                                                                                                                                                                                                                                                                                                                                                                                                                                                                                                                                                                                                                                                                                                                                                                                                                                                                                                                                                                                                                                                                                                                                                                                                                                                                                                                                                             |\n",
      "|managerial experience, customer service, retail environment, sales reports, business trends, pos systems, inventory management, analytical skills, problem solving skills, computer skills, outlook, excel, word, communication skills, time management skills, compensation, commission earnings, bonus, benefits                                                                                                                                                                                                                                                                                                                                                                                                                                                                                                                                                                                                                                                                                                                                                                                                                                                                                                                                                                                                                                                                                                                                                                                                                                                                                                                                                                                                                                                                                                                                                                                                                                                                                                                                                                                                                                                                                                                     |\n",
      "+---------------------------------------------------------------------------------------------------------------------------------------------------------------------------------------------------------------------------------------------------------------------------------------------------------------------------------------------------------------------------------------------------------------------------------------------------------------------------------------------------------------------------------------------------------------------------------------------------------------------------------------------------------------------------------------------------------------------------------------------------------------------------------------------------------------------------------------------------------------------------------------------------------------------------------------------------------------------------------------------------------------------------------------------------------------------------------------------------------------------------------------------------------------------------------------------------------------------------------------------------------------------------------------------------------------------------------------------------------------------------------------------------------------------------------------------------------------------------------------------------------------------------------------------------------------------------------------------------------------------------------------------------------------------------------------------------------------------------------------------------------------------------------------------------------------------------------------------------------------------------------------------------------------------------------------------------------------------------------------------------------------------------------------------------------------------------------------------------------------------------------------------------------------------------------------------------------------------------------------+\n",
      "only showing top 20 rows"
     ]
    }
   ],
   "source": [
    "# Read ner_skills table the parquet file\n",
    "df = spark.read.parquet('s3://qixin-finalproj-bucket/ner_skills_sample.parquet')\n",
    "\n",
    "# Remove rows where 'job_skills' is null or empty\n",
    "df = df.filter(col(\"job_skills\") != \"\")\n",
    "\n",
    "# Show 20 rows of the ner_skills table\n",
    "df.select(\"job_skills\").show(truncate=False)"
   ]
  },
  {
   "cell_type": "code",
   "execution_count": 6,
   "metadata": {},
   "outputs": [
    {
     "data": {
      "application/vnd.jupyter.widget-view+json": {
       "model_id": "",
       "version_major": 2,
       "version_minor": 0
      },
      "text/plain": [
       "FloatProgress(value=0.0, bar_style='info', description='Progress:', layout=Layout(height='25px', width='50%'),…"
      ]
     },
     "metadata": {},
     "output_type": "display_data"
    },
    {
     "name": "stdout",
     "output_type": "stream",
     "text": [
      "lemma_antbnc download started this may take some time.\n",
      "Approximate size to download 907.6 KB\n",
      "[OK!]\n",
      "+----------+--------------------+-----------------+--------------------+--------------------+--------------------+--------------------+--------------------+--------------------+--------------------+--------------------+\n",
      "|    job_id|          job_skills|__index_level_0__|            document|               token|        clean_tokens|    normalized_token|               lemma|          lemma_text|              vector|               tfidf|\n",
      "+----------+--------------------+-----------------+--------------------+--------------------+--------------------+--------------------+--------------------+--------------------+--------------------+--------------------+\n",
      "|3801187557|human resources m...|          1132159|[[document, 0, 54...|[[token, 0, 4, hu...|[[token, 0, 4, hu...|[[token, 0, 4, hu...|[[token, 0, 4, hu...|[human, resource,...|(3332,[0,11,14,15...|(3332,[0,11,14,15...|\n",
      "|3785121992|loss prevention, ...|           951428|[[document, 0, 26...|[[token, 0, 3, lo...|[[token, 0, 3, lo...|[[token, 0, 3, lo...|[[token, 0, 3, lo...|[loss, prevention...|(3332,[2,3,4,8,12...|(3332,[2,3,4,8,12...|\n",
      "|3772216295|quality assurance...|           967599|[[document, 0, 33...|[[token, 0, 6, qu...|[[token, 0, 6, qu...|[[token, 0, 6, qu...|[[token, 0, 6, qu...|[quality, assuran...|(3332,[1,2,6,15,1...|(3332,[1,2,6,15,1...|\n",
      "|3570033002|patient registrat...|           815729|[[document, 0, 62...|[[token, 0, 6, pa...|[[token, 0, 6, pa...|[[token, 0, 6, pa...|[[token, 0, 6, pa...|[patient, registr...|(3332,[0,1,2,4,8,...|(3332,[0,1,2,4,8,...|\n",
      "|3651739108|store management,...|          1227065|[[document, 0, 39...|[[token, 0, 4, st...|[[token, 0, 4, st...|[[token, 0, 4, st...|[[token, 0, 4, st...|[store, managemen...|(3332,[0,3,4,8,14...|(3332,[0,3,4,8,14...|\n",
      "|3806094229|rn license, bsn, ...|           776959|[[document, 0, 54...|[[token, 0, 1, rn...|[[token, 0, 1, rn...|[[token, 0, 1, rn...|[[token, 0, 1, rn...|[rn, license, bsn...|(3332,[1,2,5,7,13...|(3332,[1,2,5,7,13...|\n",
      "|3748586353|business skills, ...|           567616|[[document, 0, 41...|[[token, 0, 7, bu...|[[token, 0, 7, bu...|[[token, 0, 7, bu...|[[token, 0, 7, bu...|[business, skill,...|(3332,[0,1,2,4,8,...|(3332,[0,1,2,4,8,...|\n",
      "|3806195041|concrete construc...|           936853|[[document, 0, 40...|[[token, 0, 7, co...|[[token, 0, 7, co...|[[token, 0, 7, co...|[[token, 0, 7, co...|[concrete, constr...|(3332,[1,2,5,6,17...|(3332,[1,2,5,6,17...|\n",
      "|3797080602|customer service,...|          1237932|[[document, 0, 28...|[[token, 0, 7, cu...|[[token, 0, 7, cu...|[[token, 0, 7, cu...|[[token, 0, 7, cu...|[customer, servic...|(3332,[1,2,4,6,8,...|(3332,[1,2,4,6,8,...|\n",
      "|3804638835|accounting, finan...|           688733|[[document, 0, 18...|[[token, 0, 9, ac...|[[token, 0, 9, ac...|[[token, 0, 9, ac...|[[token, 0, 9, ac...|[account, financi...|(3332,[0,15,20,22...|(3332,[0,15,20,22...|\n",
      "|3667789326|power system anal...|           404876|[[document, 0, 87...|[[token, 0, 4, po...|[[token, 0, 4, po...|[[token, 0, 4, po...|[[token, 0, 4, po...|[power, system, a...|(3332,[1,2,3,5,6,...|(3332,[1,2,3,5,6,...|\n",
      "|3726556612|javascript (es6),...|           859293|[[document, 0, 39...|[[token, 0, 9, ja...|[[token, 0, 9, ja...|[[token, 0, 9, ja...|[[token, 0, 9, ja...|[javascript, es, ...|(3332,[3,12,14,21...|(3332,[3,12,14,21...|\n",
      "|3797794897|fitness coach, pe...|           887208|[[document, 0, 18...|[[token, 0, 6, fi...|[[token, 0, 6, fi...|[[token, 0, 6, fi...|[[token, 0, 6, fi...|[fitness, coach, ...|(3332,[0,26,75,82...|(3332,[0,26,75,82...|\n",
      "|3682168701|school administra...|          1147662|[[document, 0, 58...|[[token, 0, 5, sc...|[[token, 0, 5, sc...|[[token, 0, 5, sc...|[[token, 0, 5, sc...|[school, administ...|(3332,[0,1,2,3,4,...|(3332,[0,1,2,3,4,...|\n",
      "|3666413190|civil engineering...|           725412|[[document, 0, 31...|[[token, 0, 4, ci...|[[token, 0, 4, ci...|[[token, 0, 4, ci...|[[token, 0, 4, ci...|[civil, engineeri...|(3332,[0,2,13,15,...|(3332,[0,2,13,15,...|\n",
      "|3798823283|nursing, bls, acl...|           288164|[[document, 0, 24...|[[token, 0, 6, nu...|[[token, 0, 6, nu...|[[token, 0, 6, nu...|[[token, 0, 6, nu...|[nurse, bls, acl,...|(3332,[2,7,9,13,1...|(3332,[2,7,9,13,1...|\n",
      "|3757520826|american board of...|           530271|[[document, 0, 10...|[[token, 0, 7, am...|[[token, 0, 7, am...|[[token, 0, 7, am...|[[token, 0, 7, am...|[american, board,...|(3332,[16,86,87,9...|(3332,[16,86,87,9...|\n",
      "|3607760587|cashier, stocker,...|           342165|[[document, 0, 21...|[[token, 0, 6, ca...|[[token, 0, 6, ca...|[[token, 0, 6, ca...|[[token, 0, 6, ca...|[cashier, stocker...|(3332,[1,2,3,4,5,...|(3332,[1,2,3,4,5,...|\n",
      "|3733314299|psychiatrist, med...|          1150229|[[document, 0, 10...|[[token, 0, 11, p...|[[token, 0, 11, p...|[[token, 0, 11, p...|[[token, 0, 11, p...|[psychiatrist, me...|(3332,[13,16,25,2...|(3332,[13,16,25,2...|\n",
      "|3791309813|managerial experi...|           592743|[[document, 0, 30...|[[token, 0, 9, ma...|[[token, 0, 9, ma...|[[token, 0, 9, ma...|[[token, 0, 9, ma...|[managerial, expe...|(3332,[0,1,2,3,4,...|(3332,[0,1,2,3,4,...|\n",
      "+----------+--------------------+-----------------+--------------------+--------------------+--------------------+--------------------+--------------------+--------------------+--------------------+--------------------+\n",
      "only showing top 20 rows"
     ]
    }
   ],
   "source": [
    "# Initialize a DocumentAssembler to convert input column to document type\n",
    "document_assembler = DocumentAssembler() \\\n",
    "    .setInputCol(\"job_skills\") \\\n",
    "    .setOutputCol(\"document\")\n",
    "\n",
    "# Initialize the Tokenizer\n",
    "tokenizer = Tokenizer() \\\n",
    "    .setInputCols([\"document\"]) \\\n",
    "    .setOutputCol(\"token\")\n",
    "\n",
    "# Initialize StopWordsCleaner\n",
    "stopwords_cleaner = StopWordsCleaner() \\\n",
    "    .setInputCols([\"token\"]) \\\n",
    "    .setOutputCol(\"clean_tokens\") \\\n",
    "    .setCaseSensitive(False) \\\n",
    "    .setStopWords(stopwords_list)\n",
    "\n",
    "# Normalizer to remove punctuation and non-letter characters\n",
    "normalizer = Normalizer() \\\n",
    "    .setInputCols([\"clean_tokens\"]) \\\n",
    "    .setOutputCol(\"normalized_token\")\n",
    "\n",
    "# Load a pretrained LemmatizerModel\n",
    "lemmatizer = LemmatizerModel.pretrained() \\\n",
    "    .setInputCols([\"normalized_token\"]) \\\n",
    "    .setOutputCol(\"lemma\")\n",
    "\n",
    "# UDF to extract text from lemma annotations\n",
    "extract_lemma_udf = udf(lambda xs: [x.result for x in xs], ArrayType(StringType()))\n",
    "\n",
    "# Initialize the CountVectorizer and IDF estimator\n",
    "vectorizer = CountVectorizer(inputCol=\"lemma_text\", outputCol=\"vector\", minDF=100)\n",
    "idf = IDF(inputCol=\"vector\", outputCol=\"tfidf\")\n",
    "\n",
    "# Define and create pipeline\n",
    "stages = [document_assembler, tokenizer, stopwords_cleaner, normalizer, lemmatizer]\n",
    "pipeline = Pipeline(stages=stages)\n",
    "\n",
    "# Fit the pipeline to the initial DataFrame\n",
    "pipeline_model = pipeline.fit(df)\n",
    "\n",
    "# Transform the DataFrame using the fitted pipeline and adjust the 'lemma' column\n",
    "df = pipeline_model.transform(df)\n",
    "df = df.withColumn(\"lemma_text\", extract_lemma_udf(col(\"lemma\")))\n",
    "\n",
    "# Apply CountVectorizer and IDF to the adjusted DataFrame\n",
    "vectorizer_model = vectorizer.fit(df)\n",
    "df = vectorizer_model.transform(df)\n",
    "idf_model = idf.fit(df)\n",
    "df = idf_model.transform(df)\n",
    "\n",
    "# Show the final DataFrame structure and some rows to verify the results\n",
    "df.show()"
   ]
  },
  {
   "cell_type": "markdown",
   "metadata": {},
   "source": [
    "## STEP2_3_LDA_Topic_Analysis"
   ]
  },
  {
   "cell_type": "code",
   "execution_count": 9,
   "metadata": {},
   "outputs": [
    {
     "data": {
      "application/vnd.jupyter.widget-view+json": {
       "model_id": "",
       "version_major": 2,
       "version_minor": 0
      },
      "text/plain": [
       "FloatProgress(value=0.0, bar_style='info', description='Progress:', layout=Layout(height='25px', width='50%'),…"
      ]
     },
     "metadata": {},
     "output_type": "display_data"
    }
   ],
   "source": [
    "# Use the Log-Likelihood and Log Perplexity to decided the number of topics\n",
    "\n",
    "num_topics = range(2, 15, 2)\n",
    "log_likelihoods = []\n",
    "log_perplexities = []\n",
    "\n",
    "for k in num_topics:\n",
    "    lda = LDA(k=k, maxIter=10, seed=42, featuresCol=\"vector\")\n",
    "    model = lda.fit(df)\n",
    "    ll = model.logLikelihood(df)\n",
    "    lp = model.logPerplexity(df)\n",
    "    log_likelihoods.append(ll)\n",
    "    log_perplexities.append(lp)\n",
    "\n",
    "# Plotting the metrics\n",
    "plt.figure(figsize=(12, 6))\n",
    "\n",
    "plt.subplot(1, 2, 1)\n",
    "plt.plot(num_topics, log_likelihoods, marker='o')\n",
    "plt.title('Log-Likelihood vs Number of Topics')\n",
    "plt.xlabel('Number of Topics')\n",
    "plt.ylabel('Log-Likelihood')\n",
    "\n",
    "plt.subplot(1, 2, 2)\n",
    "plt.plot(num_topics, log_perplexities, marker='o')\n",
    "plt.title('Log Perplexity vs Number of Topics')\n",
    "plt.xlabel('Number of Topics')\n",
    "plt.ylabel('Log Perplexity')\n",
    "\n",
    "plt.tight_layout()\n",
    "plt.show()"
   ]
  },
  {
   "cell_type": "code",
   "execution_count": 49,
   "metadata": {},
   "outputs": [
    {
     "data": {
      "application/vnd.jupyter.widget-view+json": {
       "model_id": "",
       "version_major": 2,
       "version_minor": 0
      },
      "text/plain": [
       "FloatProgress(value=0.0, bar_style='info', description='Progress:', layout=Layout(height='25px', width='50%'),…"
      ]
     },
     "metadata": {},
     "output_type": "display_data"
    }
   ],
   "source": [
    "# Use 8 as number of topics after trial\n",
    "num_topics = 8\n",
    "lda = LDA(k=num_topics, maxIter=10, seed = 42, featuresCol=\"vector\")\n",
    "lda_model = lda.fit(df)"
   ]
  },
  {
   "cell_type": "code",
   "execution_count": 56,
   "metadata": {},
   "outputs": [
    {
     "data": {
      "application/vnd.jupyter.widget-view+json": {
       "model_id": "",
       "version_major": 2,
       "version_minor": 0
      },
      "text/plain": [
       "FloatProgress(value=0.0, bar_style='info', description='Progress:', layout=Layout(height='25px', width='50%'),…"
      ]
     },
     "metadata": {},
     "output_type": "display_data"
    },
    {
     "name": "stdout",
     "output_type": "stream",
     "text": [
      "+-----+---------------------------------------------------------------------------------------------------------------------------------------------------------+----------------------------------------------------------------------------------------------------------------------------------------------------------------------------------------------------------------------------------------------------------------------------------------------------------------------------------------+\n",
      "|topic|terms                                                                                                                                                    |termWeights                                                                                                                                                                                                                                                                                                                             |\n",
      "+-----+---------------------------------------------------------------------------------------------------------------------------------------------------------+----------------------------------------------------------------------------------------------------------------------------------------------------------------------------------------------------------------------------------------------------------------------------------------------------------------------------------------+\n",
      "|0    |[management, skill, system, analysis, project, communication, engineering, account, design, data, process, financial, microsoft, report, business]       |[0.03691238722127629, 0.019167221666907652, 0.018373078939935974, 0.017748683073107518, 0.01693996307250113, 0.016109959337546713, 0.014433813792431692, 0.013046923238286039, 0.011699838026024485, 0.010599107086978449, 0.009689115754006567, 0.009646591938105893, 0.008588948792335866, 0.008454439880913194, 0.00818542192551527] |\n",
      "|1    |[data, management, system, software, security, development, communication, analysis, engineering, experience, skill, network, cloud, design, science]    |[0.03568589423728248, 0.01836568220233927, 0.014665921185179284, 0.013269400194762556, 0.012945401883356853, 0.012610701125593945, 0.012297769302565235, 0.01171223723862694, 0.010751107504598732, 0.01063322255342146, 0.010566351232864786, 0.01013358788673244, 0.009009621383333038, 0.008202146517940533, 0.00775630455566706]    |\n",
      "|2    |[management, experience, construction, project, engineering, medical, certification, license, skill, communication, care, degree, quality, patient, plan]|[0.026155453428497417, 0.02046846404466613, 0.015704434415895512, 0.01523291089515724, 0.014253424375487751, 0.01139474270084425, 0.01038939371351181, 0.010021813105315398, 0.009918267618660671, 0.00975717864257887, 0.00944899145945562, 0.00910080907170034, 0.007942012908536845, 0.007553652913623353, 0.007467076464464736]     |\n",
      "|3    |[management, service, customer, communication, skill, experience, sales, food, safety, leadership, retail, training, inventory, operation, team]         |[0.04606413185308002, 0.030591721454178152, 0.02964923329171293, 0.02552560077447304, 0.021101649854854864, 0.01768071077846618, 0.017208811999512325, 0.015596130565252405, 0.013717101202854265, 0.013023465615493775, 0.010757141238324422, 0.01048386112200327, 0.010057655950118143, 0.0099984544110208, 0.009366853609328582]     |\n",
      "|4    |[ability, skill, work, communication, management, experience, service, microsoft, lift, customer, office, environment, detail, high, write]              |[0.048473139982209826, 0.03610658350381761, 0.029654978949304592, 0.02056311329854985, 0.014082974592900352, 0.013052342300562602, 0.011971417667658147, 0.011385229260629187, 0.01053258143187642, 0.01045575238896213, 0.009422537956264502, 0.007845755838512694, 0.007048934502301165, 0.006923432859235942, 0.006881076861242899]  |\n",
      "|5    |[management, skill, communication, development, sales, plan, experience, service, work, training, safety, program, leadership, degree, business]         |[0.0397727574134747, 0.023039327425599405, 0.01738406377566558, 0.012838957904625168, 0.011756598803302334, 0.011561403321046928, 0.00991476097439466, 0.009554512895473124, 0.008733119930302253, 0.008295431277023561, 0.008133087217141925, 0.0076452711546234845, 0.0074227423394584895, 0.007194566685567658, 0.007104477568175409]|\n",
      "|6    |[insurance, pay, medical, dental, benefit, k, vision, program, nurse, license, health, plan, care, life, bonus]                                          |[0.03406247835753318, 0.025175801722496886, 0.016042642229239533, 0.015528863965724712, 0.015012023761511803, 0.014682718304210297, 0.013012640791064038, 0.012755263249213767, 0.012421658094974156, 0.01232130610900053, 0.011578480920202179, 0.010389103728157363, 0.010233823771878427, 0.009244632222807431, 0.009097821387566478]|\n",
      "|7    |[care, nurse, patient, medical, health, clinical, communication, license, certification, skill, management, education, plan, experience, assessment]     |[0.039853876504274646, 0.039386643951212524, 0.02922463035793353, 0.01636733553423116, 0.01558077838564652, 0.014941619549257778, 0.012792415637393832, 0.012150307317096834, 0.01207568498125182, 0.0110568924672911, 0.010902167978613552, 0.010712908451882145, 0.009746141860705299, 0.008380358649428757, 0.007948818995670749]    |\n",
      "+-----+---------------------------------------------------------------------------------------------------------------------------------------------------------+----------------------------------------------------------------------------------------------------------------------------------------------------------------------------------------------------------------------------------------------------------------------------------------------------------------------------------------+"
     ]
    }
   ],
   "source": [
    "# Retrieve the vocabulary from CountVectorizerModel\n",
    "vocab = vectorizer_model.vocabulary\n",
    "\n",
    "# UDF to convert term indices to words\n",
    "def indices_to_terms(termIndices):\n",
    "    return [vocab[int(index)] for index in termIndices]\n",
    "indices_to_terms_udf = udf(indices_to_terms, ArrayType(StringType()))\n",
    "\n",
    "# Show the topics described by their top-weighted terms\n",
    "topics = lda_model.describeTopics(maxTermsPerTopic=15)\n",
    "topics_with_words = topics.withColumn(\"terms\", indices_to_terms_udf(\"termIndices\"))\n",
    "topics_with_words.select(\"topic\", \"terms\", \"termWeights\").show(truncate=False)"
   ]
  },
  {
   "cell_type": "markdown",
   "metadata": {},
   "source": [
    "# STEP3_Job_Recommender"
   ]
  },
  {
   "cell_type": "code",
   "execution_count": 51,
   "metadata": {},
   "outputs": [
    {
     "data": {
      "application/vnd.jupyter.widget-view+json": {
       "model_id": "",
       "version_major": 2,
       "version_minor": 0
      },
      "text/plain": [
       "FloatProgress(value=0.0, bar_style='info', description='Progress:', layout=Layout(height='25px', width='50%'),…"
      ]
     },
     "metadata": {},
     "output_type": "display_data"
    }
   ],
   "source": [
    "# Give a sample of user_input\n",
    "user_input_sample = \"data analysis, Python, business analytics\"\n",
    "user_skills = user_input_sample\n",
    "user_skills_df = spark.createDataFrame([Row(job_skills=user_skills)])"
   ]
  },
  {
   "cell_type": "code",
   "execution_count": 52,
   "metadata": {},
   "outputs": [
    {
     "data": {
      "application/vnd.jupyter.widget-view+json": {
       "model_id": "",
       "version_major": 2,
       "version_minor": 0
      },
      "text/plain": [
       "FloatProgress(value=0.0, bar_style='info', description='Progress:', layout=Layout(height='25px', width='50%'),…"
      ]
     },
     "metadata": {},
     "output_type": "display_data"
    },
    {
     "name": "stdout",
     "output_type": "stream",
     "text": [
      "+--------------------+--------------------+--------------------+--------------------+--------------------+--------------------+--------------------+--------------------+--------------------+\n",
      "|          job_skills|            document|               token|        clean_tokens|    normalized_token|               lemma|          lemma_text|              vector|               tfidf|\n",
      "+--------------------+--------------------+--------------------+--------------------+--------------------+--------------------+--------------------+--------------------+--------------------+\n",
      "|data analysis, Py...|[[document, 0, 40...|[[token, 0, 3, da...|[[token, 0, 3, da...|[[token, 0, 3, da...|[[token, 0, 3, da...|[data, analysis, ...|(3332,[12,22,38,3...|(3332,[12,22,38,3...|\n",
      "+--------------------+--------------------+--------------------+--------------------+--------------------+--------------------+--------------------+--------------------+--------------------+"
     ]
    }
   ],
   "source": [
    "# Apply the pipeline to the user_input sample using the fitted pipeline\n",
    "user_skills_df = pipeline_model.transform(user_skills_df)\n",
    "\n",
    "# Adjust the 'lemma' column\n",
    "user_skills_df = user_skills_df.withColumn(\"lemma_text\", extract_lemma_udf(col(\"lemma\")))\n",
    "\n",
    "# Proceed with vectorization and IDF transformation\n",
    "user_skills_df = vectorizer_model.transform(user_skills_df)\n",
    "user_skills_df = idf_model.transform(user_skills_df)\n",
    "\n",
    "# Show the results\n",
    "user_skills_df.show()"
   ]
  },
  {
   "cell_type": "code",
   "execution_count": 53,
   "metadata": {},
   "outputs": [
    {
     "data": {
      "application/vnd.jupyter.widget-view+json": {
       "model_id": "",
       "version_major": 2,
       "version_minor": 0
      },
      "text/plain": [
       "FloatProgress(value=0.0, bar_style='info', description='Progress:', layout=Layout(height='25px', width='50%'),…"
      ]
     },
     "metadata": {},
     "output_type": "display_data"
    }
   ],
   "source": [
    "# Define a user-defined function (UDF) to calculate cosine similarity between two SparseVectors\n",
    "def cosine_similarity(v1, v2):\n",
    "    \"\"\"\n",
    "    Calculate cosine similarity between two SparseVectors.\n",
    "    \"\"\"\n",
    "    dot_product = float(v1.dot(v2)) \n",
    "    norm_v1 = float(v1.norm(2))\n",
    "    norm_v2 = float(v2.norm(2))\n",
    "\n",
    "    # Handle Zero Division cases - return 0 for similarity when either of the vectors is a zero vector\n",
    "    if norm_v1 * norm_v2 == 0:\n",
    "        return 0.0\n",
    "    \n",
    "    # Calculate cosine similarity\n",
    "    similarity = dot_product / (norm_v1 * norm_v2)  \n",
    "    return similarity\n",
    "\n",
    "# Wrap the function around a UDF\n",
    "cosine_similarity_udf = udf(cosine_similarity, DoubleType())"
   ]
  },
  {
   "cell_type": "code",
   "execution_count": 54,
   "metadata": {},
   "outputs": [
    {
     "data": {
      "application/vnd.jupyter.widget-view+json": {
       "model_id": "",
       "version_major": 2,
       "version_minor": 0
      },
      "text/plain": [
       "FloatProgress(value=0.0, bar_style='info', description='Progress:', layout=Layout(height='25px', width='50%'),…"
      ]
     },
     "metadata": {},
     "output_type": "display_data"
    },
    {
     "name": "stdout",
     "output_type": "stream",
     "text": [
      "+----------+--------------------+-----------------+--------------------+--------------------+--------------------+--------------------+--------------------+--------------------+--------------------+--------------------+--------------------+------------------+\n",
      "|    job_id|          job_skills|__index_level_0__|            document|               token|        clean_tokens|    normalized_token|               lemma|          lemma_text|              vector|               tfidf|         tfidf_array|  similarity_score|\n",
      "+----------+--------------------+-----------------+--------------------+--------------------+--------------------+--------------------+--------------------+--------------------+--------------------+--------------------+--------------------+------------------+\n",
      "|3770289289|business analysis...|          1171344|[[document, 0, 42...|[[token, 0, 7, bu...|[[token, 0, 7, bu...|[[token, 0, 7, bu...|[[token, 0, 7, bu...|[business, analys...|(3332,[0,2,12,20,...|(3332,[0,2,12,20,...|[1.33472494691007...|0.6726034683237739|\n",
      "|3803728539|google analytics ...|           103127|[[document, 0, 81...|[[token, 0, 5, go...|[[token, 0, 5, go...|[[token, 0, 5, go...|[[token, 0, 5, go...|[google, analytic...|(3332,[12,130,265...|(3332,[12,130,265...|[0.0, 0.0, 0.0, 0...|0.6715340901991099|\n",
      "|3799408500|data analytics, s...|          1037885|[[document, 0, 55...|[[token, 0, 3, da...|[[token, 0, 3, da...|[[token, 0, 3, da...|[[token, 0, 3, da...|[data, analytic, ...|(3332,[0,3,11,12,...|(3332,[0,3,11,12,...|[0.66736247345503...|0.6222135248568949|\n",
      "|3800415455|microsoft excel, ...|           160050|[[document, 0, 11...|[[token, 0, 8, mi...|[[token, 0, 8, mi...|[[token, 0, 8, mi...|[[token, 0, 8, mi...|[microsoft, excel...|(3332,[12,28,41,9...|(3332,[12,28,41,9...|[0.0, 0.0, 0.0, 0...|0.5956528640441416|\n",
      "|3805207224|data analysis, ms...|          1191259|[[document, 0, 45...|[[token, 0, 3, da...|[[token, 0, 3, da...|[[token, 0, 3, da...|[[token, 0, 3, da...|[data, analysis, ...|(3332,[0,2,10,12,...|(3332,[0,2,10,12,...|[1.33472494691007...|0.5906287393925599|\n",
      "+----------+--------------------+-----------------+--------------------+--------------------+--------------------+--------------------+--------------------+--------------------+--------------------+--------------------+--------------------+------------------+"
     ]
    }
   ],
   "source": [
    "# Initialize Spark session with a specific application name\n",
    "spark = SparkSession.builder.appName(\"Skill-based Job Recommender\").getOrCreate()\n",
    "\n",
    "# Convert SparseVector to Python list inside UDF\n",
    "def sparse_to_array(v):\n",
    "    return v.toArray().tolist()\n",
    "sparse_to_array_udf = udf(sparse_to_array, ArrayType(DoubleType()))\n",
    "\n",
    "# Convert tf-idf to array with UDF\n",
    "df = df.withColumn(\"tfidf_array\", sparse_to_array_udf(col(\"tfidf\")))\n",
    "user_skills_df = user_skills_df.withColumn(\"tfidf_array\", sparse_to_array_udf(col(\"tfidf\")))\n",
    "\n",
    "# Create a temporary view of the DataFrame for SQL operations\n",
    "df.createOrReplaceTempView(\"df_posts_skills_tfidf_view\")\n",
    "\n",
    "# Create function calculating cosine similarity as a UDF\n",
    "def cosine_similarity(arr1, arr2):\n",
    "    dot_product = sum(x * y for x, y in zip(arr1, arr2))\n",
    "    norm1 = sum(x**2 for x in arr1) ** 0.5\n",
    "    norm2 = sum(x**2 for x in arr2) ** 0.5\n",
    "    return dot_product / (norm1 * norm2) if norm1 and norm2 else 0.0\n",
    "cosine_similarity_udf = udf(cosine_similarity, DoubleType())\n",
    "\n",
    "# Create function to recommend jobs by comparing user skills with job skills using cosine similarity\n",
    "def recommend_jobs(user_skill_df):\n",
    "    user_vector = user_skill_df.select(\"tfidf_array\").first()[\"tfidf_array\"]\n",
    "    result_df = spark.sql(\"SELECT *, cast(0 as double) as similarity_score FROM df_posts_skills_tfidf_view\")\n",
    "    result_df = result_df.withColumn(\"similarity_score\", cosine_similarity_udf(col(\"tfidf_array\"), array([lit(x) for x in user_vector])))\n",
    "    return result_df.orderBy(col(\"similarity_score\").desc()).limit(5)\n",
    "\n",
    "# Get the top 5 recommended jobs and display them\n",
    "top_jobs = recommend_jobs(user_skills_df)\n",
    "top_jobs.show()"
   ]
  }
 ],
 "metadata": {
  "kernelspec": {
   "display_name": "PySpark",
   "language": "",
   "name": "pysparkkernel"
  },
  "language_info": {
   "codemirror_mode": {
    "name": "python",
    "version": 3
   },
   "mimetype": "text/x-python",
   "name": "pyspark",
   "pygments_lexer": "python3"
  }
 },
 "nbformat": 4,
 "nbformat_minor": 4
}
